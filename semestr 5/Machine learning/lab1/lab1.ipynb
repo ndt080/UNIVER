{
 "cells": [
  {
   "cell_type": "code",
   "execution_count": 1,
   "outputs": [],
   "source": [
    "import math\n",
    "from sklearn.metrics import accuracy_score\n",
    "from matplotlib import pyplot as plt\n",
    "from sklearn.datasets import load_wine\n",
    "from sklearn.model_selection import train_test_split"
   ],
   "metadata": {
    "collapsed": false,
    "pycharm": {
     "name": "#%%\n"
    }
   }
  },
  {
   "cell_type": "code",
   "execution_count": 2,
   "outputs": [],
   "source": [
    "class KNearestNeighbours:\n",
    "\n",
    "    def __init__(self, k):\n",
    "        self.k = k\n",
    "\n",
    "    def fit(self, X, Y):\n",
    "        self.X = X\n",
    "        self.Y = Y\n",
    "\n",
    "    @staticmethod\n",
    "    def distance_(fst, sec):\n",
    "        res = 0\n",
    "        for i in range(len(fst)):\n",
    "            res += (fst[i] - sec[i]) ** 2\n",
    "        return math.sqrt(res)\n",
    "\n",
    "    def predict(self, test_x):\n",
    "        result = list()\n",
    "        for item in test_x.values:\n",
    "            distances = list()\n",
    "            count = 0\n",
    "            for x in self.X.values:\n",
    "                distances.append((self.Y.values[count], self.distance_(item, x)))\n",
    "                count += 1\n",
    "            distances.sort(key=lambda x_: x_[1])\n",
    "            neighbors = list()\n",
    "            for i in range(self.k):\n",
    "                neighbors.append(distances[i][0])\n",
    "            result.append((max(set(neighbors), key=neighbors.count)))\n",
    "        return result"
   ],
   "metadata": {
    "collapsed": false,
    "pycharm": {
     "name": "#%%\n"
    }
   }
  },
  {
   "cell_type": "code",
   "execution_count": 3,
   "outputs": [],
   "source": [
    "my_knn = KNearestNeighbours(4)"
   ],
   "metadata": {
    "collapsed": false,
    "pycharm": {
     "name": "#%%\n"
    }
   }
  },
  {
   "cell_type": "code",
   "execution_count": 4,
   "outputs": [],
   "source": [
    "dict_data = load_wine(as_frame=True)\n",
    "data = dict_data['data']\n",
    "data['target_class'] = dict_data['target']"
   ],
   "metadata": {
    "collapsed": false,
    "pycharm": {
     "name": "#%%\n"
    }
   }
  },
  {
   "cell_type": "code",
   "execution_count": 5,
   "outputs": [],
   "source": [
    "train_data, test_data = train_test_split(data, test_size=0.3, random_state=12)\n",
    "x_test, y_test = test_data.drop(columns=['target_class']), test_data['target_class']\n",
    "x_train, y_train = train_data.drop(columns=['target_class']), train_data['target_class']"
   ],
   "metadata": {
    "collapsed": false,
    "pycharm": {
     "name": "#%%\n"
    }
   }
  },
  {
   "cell_type": "code",
   "execution_count": 6,
   "outputs": [
    {
     "data": {
      "text/plain": "0.7407407407407407"
     },
     "execution_count": 6,
     "metadata": {},
     "output_type": "execute_result"
    }
   ],
   "source": [
    "my_knn.fit(x_train, y_train)\n",
    "y_predicted = my_knn.predict(x_test)\n",
    "accuracy_score(y_predicted, y_test.values)"
   ],
   "metadata": {
    "collapsed": false,
    "pycharm": {
     "name": "#%%\n"
    }
   }
  },
  {
   "cell_type": "code",
   "execution_count": 7,
   "outputs": [],
   "source": [
    "visualization_data = data[['od280/od315_of_diluted_wines', 'flavanoids', 'target_class']]\n",
    "data_c0 = visualization_data[visualization_data['target_class'] == 0]\n",
    "x0, y0 = data_c0['od280/od315_of_diluted_wines'], data_c0['flavanoids']\n",
    "data_c1 = visualization_data[visualization_data['target_class'] == 1]\n",
    "x1, y1 = data_c1['od280/od315_of_diluted_wines'], data_c1['flavanoids']\n",
    "data_c2 = visualization_data[visualization_data['target_class'] == 2]\n",
    "x2, y2 = data_c2['od280/od315_of_diluted_wines'], data_c2['flavanoids']"
   ],
   "metadata": {
    "collapsed": false,
    "pycharm": {
     "name": "#%%\n"
    }
   }
  },
  {
   "cell_type": "code",
   "execution_count": 8,
   "outputs": [
    {
     "data": {
      "text/plain": "<Figure size 432x288 with 1 Axes>",
      "image/png": "[encoded data removed]"
     },
     "metadata": {
      "needs_background": "light"
     },
     "output_type": "display_data"
    }
   ],
   "source": [
    "plt.scatter(x0, y0, marker='^')\n",
    "plt.scatter(x1, y1, marker='x')\n",
    "plt.scatter(x2, y2, marker='o')\n",
    "plt.show()"
   ],
   "metadata": {
    "collapsed": false,
    "pycharm": {
     "name": "#%%\n"
    }
   }
  }
 ],
 "metadata": {
  "kernelspec": {
   "display_name": "Python 3",
   "language": "python",
   "name": "python3"
  },
  "language_info": {
   "codemirror_mode": {
    "name": "ipython",
    "version": 2
   },
   "file_extension": ".py",
   "mimetype": "text/x-python",
   "name": "python",
   "nbconvert_exporter": "python",
   "pygments_lexer": "ipython2",
   "version": "2.7.6"
  }
 },
 "nbformat": 4,
 "nbformat_minor": 0
}