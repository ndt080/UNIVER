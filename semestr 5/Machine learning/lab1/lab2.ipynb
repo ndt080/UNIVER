{
 "cells": [
  {
   "cell_type": "code",
   "execution_count": 32,
   "metadata": {
    "collapsed": true
   },
   "outputs": [],
   "source": [
    "import pandas as pd\n",
    "from sklearn.neighbors import KNeighborsClassifier\n",
    "from sklearn.preprocessing import MinMaxScaler\n",
    "from sklearn.tree import DecisionTreeClassifier\n",
    "from sklearn.metrics import accuracy_score, precision_score, recall_score\n",
    "from sklearn.model_selection import train_test_split"
   ]
  },
  {
   "cell_type": "code",
   "execution_count": 33,
   "outputs": [],
   "source": [
    "\n",
    "data = pd.read_csv(r'D:\\PROJECTS\\UNIVER\\semestr 5\\Machine learning\\lab1\\dataset_titanic.csv')\n",
    "cor = data[['PassengerId', 'Survived', 'Pclass', 'Sex', 'Age', 'SibSp', 'Parch', 'Fare', 'Embarked']].dropna()"
   ],
   "metadata": {
    "collapsed": false,
    "pycharm": {
     "name": "#%%\n"
    }
   }
  },
  {
   "cell_type": "code",
   "execution_count": 34,
   "outputs": [],
   "source": [
    "cor['Sex'] = cor['Sex'].map(lambda x: 1 if x == 'male' else 0)\n",
    "cor['Embarked'] = cor['Embarked'].map(lambda x: 1 if x == 'C' else 0)"
   ],
   "metadata": {
    "collapsed": false,
    "pycharm": {
     "name": "#%%\n"
    }
   }
  },
  {
   "cell_type": "markdown",
   "source": [
    "Корреляция\n",
    "По ней выделим наиболее отклоненные от нуля столбцы=> наиболее важные признаки"
   ],
   "metadata": {
    "collapsed": false,
    "pycharm": {
     "name": "#%% md\n"
    }
   }
  },
  {
   "cell_type": "code",
   "source": [
    "cor.corr()"
   ],
   "metadata": {
    "collapsed": false,
    "pycharm": {
     "name": "#%%\n"
    }
   },
   "execution_count": 35,
   "outputs": [
    {
     "data": {
      "text/plain": "             PassengerId  Survived    Pclass       Sex       Age     SibSp  \\\nPassengerId     1.000000  0.029526 -0.035609  0.024674  0.033681 -0.082704   \nSurvived        0.029526  1.000000 -0.356462 -0.536762 -0.082446 -0.015523   \nPclass         -0.035609 -0.356462  1.000000  0.150826 -0.365902  0.065187   \nSex             0.024674 -0.536762  0.150826  1.000000  0.099037 -0.106296   \nAge             0.033681 -0.082446 -0.365902  0.099037  1.000000 -0.307351   \nSibSp          -0.082704 -0.015523  0.065187 -0.106296 -0.307351  1.000000   \nParch          -0.011672  0.095265  0.023666 -0.249543 -0.187896  0.383338   \nFare            0.009655  0.266100 -0.552893 -0.182457  0.093143  0.139860   \nEmbarked        0.008654  0.195673 -0.279194 -0.103611  0.038268 -0.046227   \n\n                Parch      Fare  Embarked  \nPassengerId -0.011672  0.009655  0.008654  \nSurvived     0.095265  0.266100  0.195673  \nPclass       0.023666 -0.552893 -0.279194  \nSex         -0.249543 -0.182457 -0.103611  \nAge         -0.187896  0.093143  0.038268  \nSibSp        0.383338  0.139860 -0.046227  \nParch        1.000000  0.206624 -0.009523  \nFare         0.206624  1.000000  0.301337  \nEmbarked    -0.009523  0.301337  1.000000  ",
      "text/html": "<div>\n<style scoped>\n    .dataframe tbody tr th:only-of-type {\n        vertical-align: middle;\n    }\n\n    .dataframe tbody tr th {\n        vertical-align: top;\n    }\n\n    .dataframe thead th {\n        text-align: right;\n    }\n</style>\n<table border=\"1\" class=\"dataframe\">\n  <thead>\n    <tr style=\"text-align: right;\">\n      <th></th>\n      <th>PassengerId</th>\n      <th>Survived</th>\n      <th>Pclass</th>\n      <th>Sex</th>\n      <th>Age</th>\n      <th>SibSp</th>\n      <th>Parch</th>\n      <th>Fare</th>\n      <th>Embarked</th>\n    </tr>\n  </thead>\n  <tbody>\n    <tr>\n      <th>PassengerId</th>\n      <td>1.000000</td>\n      <td>0.029526</td>\n      <td>-0.035609</td>\n      <td>0.024674</td>\n      <td>0.033681</td>\n      <td>-0.082704</td>\n      <td>-0.011672</td>\n      <td>0.009655</td>\n      <td>0.008654</td>\n    </tr>\n    <tr>\n      <th>Survived</th>\n      <td>0.029526</td>\n      <td>1.000000</td>\n      <td>-0.356462</td>\n      <td>-0.536762</td>\n      <td>-0.082446</td>\n      <td>-0.015523</td>\n      <td>0.095265</td>\n      <td>0.266100</td>\n      <td>0.195673</td>\n    </tr>\n    <tr>\n      <th>Pclass</th>\n      <td>-0.035609</td>\n      <td>-0.356462</td>\n      <td>1.000000</td>\n      <td>0.150826</td>\n      <td>-0.365902</td>\n      <td>0.065187</td>\n      <td>0.023666</td>\n      <td>-0.552893</td>\n      <td>-0.279194</td>\n    </tr>\n    <tr>\n      <th>Sex</th>\n      <td>0.024674</td>\n      <td>-0.536762</td>\n      <td>0.150826</td>\n      <td>1.000000</td>\n      <td>0.099037</td>\n      <td>-0.106296</td>\n      <td>-0.249543</td>\n      <td>-0.182457</td>\n      <td>-0.103611</td>\n    </tr>\n    <tr>\n      <th>Age</th>\n      <td>0.033681</td>\n      <td>-0.082446</td>\n      <td>-0.365902</td>\n      <td>0.099037</td>\n      <td>1.000000</td>\n      <td>-0.307351</td>\n      <td>-0.187896</td>\n      <td>0.093143</td>\n      <td>0.038268</td>\n    </tr>\n    <tr>\n      <th>SibSp</th>\n      <td>-0.082704</td>\n      <td>-0.015523</td>\n      <td>0.065187</td>\n      <td>-0.106296</td>\n      <td>-0.307351</td>\n      <td>1.000000</td>\n      <td>0.383338</td>\n      <td>0.139860</td>\n      <td>-0.046227</td>\n    </tr>\n    <tr>\n      <th>Parch</th>\n      <td>-0.011672</td>\n      <td>0.095265</td>\n      <td>0.023666</td>\n      <td>-0.249543</td>\n      <td>-0.187896</td>\n      <td>0.383338</td>\n      <td>1.000000</td>\n      <td>0.206624</td>\n      <td>-0.009523</td>\n    </tr>\n    <tr>\n      <th>Fare</th>\n      <td>0.009655</td>\n      <td>0.266100</td>\n      <td>-0.552893</td>\n      <td>-0.182457</td>\n      <td>0.093143</td>\n      <td>0.139860</td>\n      <td>0.206624</td>\n      <td>1.000000</td>\n      <td>0.301337</td>\n    </tr>\n    <tr>\n      <th>Embarked</th>\n      <td>0.008654</td>\n      <td>0.195673</td>\n      <td>-0.279194</td>\n      <td>-0.103611</td>\n      <td>0.038268</td>\n      <td>-0.046227</td>\n      <td>-0.009523</td>\n      <td>0.301337</td>\n      <td>1.000000</td>\n    </tr>\n  </tbody>\n</table>\n</div>"
     },
     "execution_count": 35,
     "metadata": {},
     "output_type": "execute_result"
    }
   ]
  },
  {
   "cell_type": "code",
   "execution_count": 36,
   "outputs": [],
   "source": [
    "train_data, test_data = train_test_split(cor, test_size=0.25, random_state=13)\n",
    "x_test, y_test = test_data[[ 'Sex', 'Age', 'Pclass', 'Fare','Embarked']], test_data[['Survived']]\n",
    "x_train, y_train =  train_data[[ 'Sex', 'Age', 'Pclass', 'Fare','Embarked']], train_data[['Survived']]"
   ],
   "metadata": {
    "collapsed": false,
    "pycharm": {
     "name": "#%%\n"
    }
   }
  },
  {
   "cell_type": "markdown",
   "source": [
    "Заполнили столбцы, выбросили то что было в test"
   ],
   "metadata": {
    "collapsed": false
   }
  },
  {
   "cell_type": "code",
   "execution_count": 38,
   "outputs": [
    {
     "name": "stdout",
     "output_type": "stream",
     "text": [
      "<class 'pandas.core.frame.DataFrame'>\n",
      "RangeIndex: 891 entries, 0 to 890\n",
      "Data columns (total 12 columns):\n",
      " #   Column       Non-Null Count  Dtype  \n",
      "---  ------       --------------  -----  \n",
      " 0   PassengerId  891 non-null    int64  \n",
      " 1   Survived     891 non-null    int64  \n",
      " 2   Pclass       891 non-null    int64  \n",
      " 3   Name         891 non-null    object \n",
      " 4   Sex          891 non-null    object \n",
      " 5   Age          714 non-null    float64\n",
      " 6   SibSp        891 non-null    int64  \n",
      " 7   Parch        891 non-null    int64  \n",
      " 8   Ticket       891 non-null    object \n",
      " 9   Fare         891 non-null    float64\n",
      " 10  Cabin        204 non-null    object \n",
      " 11  Embarked     889 non-null    object \n",
      "dtypes: float64(2), int64(5), object(5)\n",
      "memory usage: 83.7+ KB\n",
      "<class 'pandas.core.frame.DataFrame'>\n",
      "RangeIndex: 891 entries, 0 to 890\n",
      "Data columns (total 12 columns):\n",
      " #   Column       Non-Null Count  Dtype  \n",
      "---  ------       --------------  -----  \n",
      " 0   PassengerId  891 non-null    int64  \n",
      " 1   Survived     891 non-null    int64  \n",
      " 2   Pclass       891 non-null    int64  \n",
      " 3   Name         891 non-null    object \n",
      " 4   Sex          891 non-null    object \n",
      " 5   Age          891 non-null    float64\n",
      " 6   SibSp        891 non-null    int64  \n",
      " 7   Parch        891 non-null    int64  \n",
      " 8   Ticket       891 non-null    object \n",
      " 9   Fare         891 non-null    float64\n",
      " 10  Cabin        204 non-null    object \n",
      " 11  Embarked     889 non-null    object \n",
      "dtypes: float64(2), int64(5), object(5)\n",
      "memory usage: 83.7+ KB\n",
      "<class 'pandas.core.frame.DataFrame'>\n",
      "Int64Index: 713 entries, 1 to 889\n",
      "Data columns (total 12 columns):\n",
      " #   Column       Non-Null Count  Dtype  \n",
      "---  ------       --------------  -----  \n",
      " 0   PassengerId  713 non-null    int64  \n",
      " 1   Survived     713 non-null    int64  \n",
      " 2   Pclass       713 non-null    int64  \n",
      " 3   Name         713 non-null    object \n",
      " 4   Sex          713 non-null    object \n",
      " 5   Age          713 non-null    float64\n",
      " 6   SibSp        713 non-null    int64  \n",
      " 7   Parch        713 non-null    int64  \n",
      " 8   Ticket       713 non-null    object \n",
      " 9   Fare         713 non-null    float64\n",
      " 10  Cabin        165 non-null    object \n",
      " 11  Embarked     711 non-null    object \n",
      "dtypes: float64(2), int64(5), object(5)\n",
      "memory usage: 72.4+ KB\n"
     ]
    },
    {
     "name": "stderr",
     "output_type": "stream",
     "text": [
      "<ipython-input-38-e1abf692de71>:3: FutureWarning: Dropping of nuisance columns in DataFrame reductions (with 'numeric_only=None') is deprecated; in a future version this will raise TypeError.  Select only valid columns before calling the reduction.\n",
      "  data_2 = data_2.fillna(data_2.mean())\n"
     ]
    }
   ],
   "source": [
    "data_2 = pd.read_csv(r'D:\\PROJECTS\\UNIVER\\semestr 5\\Machine learning\\lab1\\dataset_titanic.csv')\n",
    "data_2.info()\n",
    "data_2 = data_2.fillna(data_2.mean())\n",
    "data_2.info()\n",
    "for item in test_data.values:\n",
    "    data_2.drop(data_2[data_2['PassengerId']==item[0]].index,inplace=True)\n",
    "data_2.info()"
   ],
   "metadata": {
    "collapsed": false,
    "pycharm": {
     "name": "#%%\n"
    }
   }
  },
  {
   "cell_type": "code",
   "execution_count": 39,
   "outputs": [
    {
     "data": {
      "text/plain": "          Survived       Sex       Age    Pclass     Parch  Embarked\nSurvived  1.000000 -0.534022 -0.071005 -0.335213  0.094192  0.157345\nSex      -0.534022  1.000000  0.108197  0.114958 -0.283500 -0.071751\nAge      -0.071005  0.108197  1.000000 -0.294244 -0.182346  0.040911\nPclass   -0.335213  0.114958 -0.294244  1.000000  0.005542 -0.257279\nParch     0.094192 -0.283500 -0.182346  0.005542  1.000000 -0.032186\nEmbarked  0.157345 -0.071751  0.040911 -0.257279 -0.032186  1.000000",
      "text/html": "<div>\n<style scoped>\n    .dataframe tbody tr th:only-of-type {\n        vertical-align: middle;\n    }\n\n    .dataframe tbody tr th {\n        vertical-align: top;\n    }\n\n    .dataframe thead th {\n        text-align: right;\n    }\n</style>\n<table border=\"1\" class=\"dataframe\">\n  <thead>\n    <tr style=\"text-align: right;\">\n      <th></th>\n      <th>Survived</th>\n      <th>Sex</th>\n      <th>Age</th>\n      <th>Pclass</th>\n      <th>Parch</th>\n      <th>Embarked</th>\n    </tr>\n  </thead>\n  <tbody>\n    <tr>\n      <th>Survived</th>\n      <td>1.000000</td>\n      <td>-0.534022</td>\n      <td>-0.071005</td>\n      <td>-0.335213</td>\n      <td>0.094192</td>\n      <td>0.157345</td>\n    </tr>\n    <tr>\n      <th>Sex</th>\n      <td>-0.534022</td>\n      <td>1.000000</td>\n      <td>0.108197</td>\n      <td>0.114958</td>\n      <td>-0.283500</td>\n      <td>-0.071751</td>\n    </tr>\n    <tr>\n      <th>Age</th>\n      <td>-0.071005</td>\n      <td>0.108197</td>\n      <td>1.000000</td>\n      <td>-0.294244</td>\n      <td>-0.182346</td>\n      <td>0.040911</td>\n    </tr>\n    <tr>\n      <th>Pclass</th>\n      <td>-0.335213</td>\n      <td>0.114958</td>\n      <td>-0.294244</td>\n      <td>1.000000</td>\n      <td>0.005542</td>\n      <td>-0.257279</td>\n    </tr>\n    <tr>\n      <th>Parch</th>\n      <td>0.094192</td>\n      <td>-0.283500</td>\n      <td>-0.182346</td>\n      <td>0.005542</td>\n      <td>1.000000</td>\n      <td>-0.032186</td>\n    </tr>\n    <tr>\n      <th>Embarked</th>\n      <td>0.157345</td>\n      <td>-0.071751</td>\n      <td>0.040911</td>\n      <td>-0.257279</td>\n      <td>-0.032186</td>\n      <td>1.000000</td>\n    </tr>\n  </tbody>\n</table>\n</div>"
     },
     "execution_count": 39,
     "metadata": {},
     "output_type": "execute_result"
    }
   ],
   "source": [
    "cor = data_2[['Survived', 'Sex', 'Age','Pclass', 'Parch', 'Embarked']].dropna()\n",
    "cor['Sex'] = cor['Sex'].map(lambda x: 1 if x == 'male' else 0)\n",
    "cor['Embarked'] = cor['Embarked'].map(lambda x: 1 if x == 'C' else 0)\n",
    "cor.corr()\n"
   ],
   "metadata": {
    "collapsed": false,
    "pycharm": {
     "name": "#%%\n"
    }
   }
  },
  {
   "cell_type": "code",
   "execution_count": 40,
   "outputs": [
    {
     "data": {
      "text/plain": "DecisionTreeClassifier(max_depth=5, min_samples_leaf=20)"
     },
     "execution_count": 40,
     "metadata": {},
     "output_type": "execute_result"
    }
   ],
   "source": [
    "d_tree = DecisionTreeClassifier(\n",
    "    criterion='gini',\n",
    "    max_depth=5,\n",
    "    min_samples_leaf=20\n",
    ")\n",
    "\n",
    "d_tree.fit(x_train, y_train)"
   ],
   "metadata": {
    "collapsed": false,
    "pycharm": {
     "name": "#%%\n"
    }
   }
  },
  {
   "cell_type": "code",
   "execution_count": 41,
   "outputs": [
    {
     "name": "stdout",
     "output_type": "stream",
     "text": [
      "[0 0 0 1 0 1 1 1 1 1 1 0 0 0 0 0 1 0 0 1 1 1 0 1 1 0 1 0 1 0 1 1 1 0 1 1 0\n",
      " 0 1 0 1 0 0 1 1 0 0 1 0 0 0 1 0 0 0 0 1 1 0 0 1 0 0 1 0 0 0 0 0 0 0 0 1 0\n",
      " 1 0 0 0 0 0 0 0 0 0 1 0 0 0 0 0 0 1 0 0 1 1 0 1 0 0 0 1 1 0 0 0 1 1 0 0 1\n",
      " 0 0 1 0 0 0 1 1 0 1 1 0 1 1 0 1 1 0 0 0 0 0 1 1 1 0 1 0 1 0 0 1 0 0 0 0 0\n",
      " 0 0 0 1 1 0 0 0 0 0 1 0 0 1 0 0 1 0 0 0 0 0 1 1 0 1 0 0 0 0]\n",
      "0.8370786516853933\n",
      "0.8361187385747393\n",
      "0.823015873015873\n"
     ]
    }
   ],
   "source": [
    "y_predicted = d_tree.predict(x_test)\n",
    "print(accuracy_score(y_test, y_predicted))\n",
    "print(precision_score(y_test, y_predicted, average='weighted'))\n",
    "print(recall_score(y_test,y_predicted, average= 'macro'))"
   ],
   "metadata": {
    "collapsed": false,
    "pycharm": {
     "name": "#%%\n"
    }
   }
  },
  {
   "cell_type": "markdown",
   "source": [
    "Незаполненное и не масштабированное дерево"
   ],
   "metadata": {
    "collapsed": false
   }
  },
  {
   "cell_type": "code",
   "execution_count": 42,
   "outputs": [
    {
     "name": "stdout",
     "output_type": "stream",
     "text": [
      "[0 0 0 1 0 1 0 0 1 0 0 0 0 0 1 0 0 0 0 1 0 0 0 1 0 0 1 1 0 1 0 1 0 0 1 1 0\n",
      " 0 1 0 1 0 0 1 0 0 0 1 0 0 0 0 1 1 0 0 0 1 0 0 1 0 0 1 0 0 0 0 0 0 0 0 1 1\n",
      " 1 1 1 0 1 0 0 1 0 1 1 1 0 0 0 0 1 1 0 0 1 1 0 0 0 0 1 1 0 0 0 0 0 1 0 0 1\n",
      " 0 0 1 0 0 0 0 1 0 0 1 0 0 1 0 1 0 0 0 0 0 0 0 0 0 0 0 1 1 1 0 1 0 0 0 0 0\n",
      " 0 0 0 1 0 0 0 0 0 0 0 0 0 0 0 0 0 1 0 0 1 0 0 0 0 1 0 0 0 1]\n",
      "0.6460674157303371\n",
      "0.635183379266483\n",
      "0.6078042328042328\n"
     ]
    },
    {
     "name": "stderr",
     "output_type": "stream",
     "text": [
      "c:\\users\\andre\\appdata\\local\\programs\\python\\python39\\lib\\site-packages\\sklearn\\neighbors\\_classification.py:198: DataConversionWarning: A column-vector y was passed when a 1d array was expected. Please change the shape of y to (n_samples,), for example using ravel().\n",
      "  return self._fit(X, y)\n",
      "c:\\users\\andre\\appdata\\local\\programs\\python\\python39\\lib\\site-packages\\sklearn\\base.py:441: UserWarning: X does not have valid feature names, but KNeighborsClassifier was fitted with feature names\n",
      "  warnings.warn(\n"
     ]
    }
   ],
   "source": [
    "neigh = KNeighborsClassifier(n_neighbors=6)\n",
    "neigh.fit(x_train, y_train)\n",
    "\n",
    "y_predicted = neigh.predict(x_test)\n",
    "print(accuracy_score(y_test, y_predicted))\n",
    "print(precision_score(y_test, y_predicted, average='weighted'))\n",
    "print(recall_score(y_test,y_predicted, average= 'macro'))"
   ],
   "metadata": {
    "collapsed": false,
    "pycharm": {
     "name": "#%%\n"
    }
   }
  },
  {
   "cell_type": "markdown",
   "source": [
    "Незаполненное дерево"
   ],
   "metadata": {
    "collapsed": false,
    "pycharm": {
     "name": "#%% md\n"
    }
   }
  },
  {
   "cell_type": "code",
   "execution_count": 43,
   "outputs": [
    {
     "name": "stderr",
     "output_type": "stream",
     "text": [
      "c:\\users\\andre\\appdata\\local\\programs\\python\\python39\\lib\\site-packages\\sklearn\\neighbors\\_classification.py:198: DataConversionWarning: A column-vector y was passed when a 1d array was expected. Please change the shape of y to (n_samples,), for example using ravel().\n",
      "  return self._fit(X, y)\n"
     ]
    },
    {
     "data": {
      "text/plain": "KNeighborsClassifier(n_neighbors=6)"
     },
     "execution_count": 43,
     "metadata": {},
     "output_type": "execute_result"
    }
   ],
   "source": [
    "scaler = MinMaxScaler()\n",
    "scaler.fit(x_train)\n",
    "x_test_scaled = scaler.transform(x_test)\n",
    "x_train_scaled = scaler.transform(x_train)\n",
    "\n",
    "neigh = KNeighborsClassifier(n_neighbors=6)\n",
    "neigh.fit(x_train_scaled, y_train)"
   ],
   "metadata": {
    "collapsed": false,
    "pycharm": {
     "name": "#%%\n"
    }
   }
  },
  {
   "cell_type": "code",
   "execution_count": 44,
   "outputs": [
    {
     "name": "stdout",
     "output_type": "stream",
     "text": [
      "[0 0 0 1 0 1 0 1 1 1 0 0 1 0 0 0 1 0 0 1 0 1 0 1 1 0 1 0 1 0 1 0 1 0 1 0 0\n",
      " 0 1 0 0 0 0 1 1 0 0 1 0 0 0 1 0 0 0 0 0 1 0 0 1 0 0 1 0 0 0 0 0 0 0 0 1 0\n",
      " 1 0 0 0 0 0 0 0 0 0 1 0 0 0 0 0 0 1 0 0 1 1 0 1 0 0 0 1 1 0 0 0 1 1 0 0 1\n",
      " 0 0 1 0 0 0 0 1 0 0 1 0 1 0 1 1 1 0 0 0 0 0 1 1 0 0 1 0 1 0 0 0 1 0 0 0 0\n",
      " 0 0 0 1 1 0 0 0 0 0 0 0 0 1 0 0 1 0 0 0 0 0 0 1 0 1 0 0 0 0]\n",
      "0.8314606741573034\n"
     ]
    }
   ],
   "source": [
    "y_predicted = neigh.predict(x_test_scaled)\n",
    "print(accuracy_score(y_test, y_predicted))"
   ],
   "metadata": {
    "collapsed": false,
    "pycharm": {
     "name": "#%%\n"
    }
   }
  },
  {
   "cell_type": "markdown",
   "source": [
    "Заполненное дерево"
   ],
   "metadata": {
    "collapsed": false,
    "pycharm": {
     "name": "#%% md\n"
    }
   }
  },
  {
   "cell_type": "code",
   "execution_count": 45,
   "outputs": [],
   "source": [
    "d_tree = DecisionTreeClassifier(\n",
    "    criterion='gini',\n",
    "    max_depth=6,\n",
    "    min_samples_leaf=20\n",
    ")"
   ],
   "metadata": {
    "collapsed": false,
    "pycharm": {
     "name": "#%%\n"
    }
   }
  },
  {
   "cell_type": "code",
   "execution_count": 46,
   "outputs": [
    {
     "data": {
      "text/plain": "DecisionTreeClassifier(max_depth=6, min_samples_leaf=20)"
     },
     "execution_count": 46,
     "metadata": {},
     "output_type": "execute_result"
    }
   ],
   "source": [
    "x_train, y_train = cor[[ 'Sex', 'Age', 'Pclass','Parch','Embarked']], cor[['Survived']]\n",
    "d_tree.fit(x_train, y_train)"
   ],
   "metadata": {
    "collapsed": false,
    "pycharm": {
     "name": "#%%\n"
    }
   }
  },
  {
   "cell_type": "code",
   "execution_count": 47,
   "outputs": [
    {
     "name": "stdout",
     "output_type": "stream",
     "text": [
      "[0 0 0 0 0 1 1 1 1 1 0 0 0 0 0 0 1 0 0 1 1 1 0 1 1 0 1 0 1 0 1 0 1 0 1 1 0\n",
      " 0 1 0 1 0 0 1 1 0 0 1 0 0 0 1 0 0 0 0 0 0 0 0 0 0 0 1 0 0 0 0 0 0 0 0 1 0\n",
      " 1 0 0 0 0 0 0 0 0 0 1 0 0 0 0 0 0 1 0 0 1 0 0 1 0 0 0 0 1 0 0 0 1 1 0 0 1\n",
      " 0 0 1 0 0 0 1 1 0 0 1 0 1 1 0 1 1 0 0 0 0 0 1 1 1 0 1 0 1 0 0 1 0 0 0 0 0\n",
      " 0 0 0 1 1 0 0 0 0 0 1 0 0 1 0 0 1 0 0 0 0 0 1 1 0 1 0 0 0 0]\n",
      "0.8314606741573034\n",
      "0.834407809909744\n",
      "0.8058201058201058\n"
     ]
    },
    {
     "name": "stderr",
     "output_type": "stream",
     "text": [
      "c:\\users\\andre\\appdata\\local\\programs\\python\\python39\\lib\\site-packages\\sklearn\\base.py:484: FutureWarning: The feature names should match those that were passed during fit. Starting version 1.2, an error will be raised.\n",
      "Feature names unseen at fit time:\n",
      "- Fare\n",
      "Feature names seen at fit time, yet now missing:\n",
      "- Parch\n",
      "\n",
      "  warnings.warn(message, FutureWarning)\n"
     ]
    }
   ],
   "source": [
    "y_predicted = d_tree.predict(x_test)\n",
    "print(accuracy_score(y_test, y_predicted))\n",
    "print(precision_score(y_test, y_predicted, average='weighted'))\n",
    "print(recall_score(y_test,y_predicted, average= 'macro'))"
   ],
   "metadata": {
    "collapsed": false,
    "pycharm": {
     "name": "#%%\n"
    }
   }
  },
  {
   "cell_type": "code",
   "source": [
    "scaler = MinMaxScaler()\n",
    "scaler.fit(x_train)\n",
    "x_test = scaler.transform(x_test)\n",
    "x_train = scaler.transform(x_train)"
   ],
   "metadata": {
    "collapsed": false,
    "pycharm": {
     "name": "#%%\n"
    }
   },
   "execution_count": 48,
   "outputs": [
    {
     "name": "stderr",
     "output_type": "stream",
     "text": [
      "c:\\users\\andre\\appdata\\local\\programs\\python\\python39\\lib\\site-packages\\sklearn\\base.py:484: FutureWarning: The feature names should match those that were passed during fit. Starting version 1.2, an error will be raised.\n",
      "Feature names unseen at fit time:\n",
      "- Fare\n",
      "Feature names seen at fit time, yet now missing:\n",
      "- Parch\n",
      "\n",
      "  warnings.warn(message, FutureWarning)\n"
     ]
    }
   ]
  },
  {
   "cell_type": "markdown",
   "source": [
    "Метрика \"manhattan\" дает большую точность"
   ],
   "metadata": {
    "collapsed": false,
    "pycharm": {
     "name": "#%% md\n"
    }
   }
  },
  {
   "cell_type": "code",
   "execution_count": 49,
   "outputs": [
    {
     "name": "stdout",
     "output_type": "stream",
     "text": [
      "[0 0 0 0 0 0 0 0 0 0 1 0 0 0 0 0 0 0 0 0 0 0 0 0 0 0 0 0 0 0 0 0 0 0 0 0 0\n",
      " 0 0 0 0 0 0 0 0 0 0 0 0 0 0 0 0 0 0 0 1 0 0 0 0 0 0 0 0 0 0 0 0 0 0 0 0 0\n",
      " 0 0 0 0 0 0 0 0 0 0 0 0 0 0 0 0 0 0 0 0 0 0 0 0 0 0 0 0 0 0 0 0 0 0 0 0 0\n",
      " 0 0 0 0 0 0 0 0 0 0 0 0 0 0 0 0 0 0 0 0 0 0 0 0 0 0 0 0 0 0 0 0 0 0 0 0 0\n",
      " 0 0 0 0 0 0 0 0 0 0 0 0 0 0 0 0 0 0 0 0 0 0 0 0 0 0 0 0 0 0]\n",
      "0.6179775280898876\n",
      "0.7655771195097039\n",
      "0.5142857142857142\n"
     ]
    },
    {
     "name": "stderr",
     "output_type": "stream",
     "text": [
      "c:\\users\\andre\\appdata\\local\\programs\\python\\python39\\lib\\site-packages\\sklearn\\neighbors\\_classification.py:198: DataConversionWarning: A column-vector y was passed when a 1d array was expected. Please change the shape of y to (n_samples,), for example using ravel().\n",
      "  return self._fit(X, y)\n"
     ]
    }
   ],
   "source": [
    "neigh = KNeighborsClassifier(n_neighbors=6, metric='chebyshev')\n",
    "neigh.fit(x_train, y_train)\n",
    "\n",
    "y_predicted = neigh.predict(x_test)\n",
    "print(accuracy_score(y_test, y_predicted))\n",
    "print(precision_score(y_test, y_predicted, average='weighted'))\n",
    "print(recall_score(y_test,y_predicted, average= 'macro'))"
   ],
   "metadata": {
    "collapsed": false,
    "pycharm": {
     "name": "#%%\n"
    }
   }
  },
  {
   "cell_type": "markdown",
   "source": [
    "KNN масштабированно"
   ],
   "metadata": {
    "collapsed": false,
    "pycharm": {
     "name": "#%% md\n"
    }
   }
  },
  {
   "cell_type": "code",
   "execution_count": 50,
   "outputs": [
    {
     "name": "stdout",
     "output_type": "stream",
     "text": [
      "[0 0 0 0 0 0 0 0 0 0 1 0 0 0 0 0 0 0 0 0 0 0 0 0 0 0 0 0 0 0 0 0 0 0 0 0 0\n",
      " 0 0 0 0 0 0 0 0 0 0 0 0 0 0 0 0 0 0 0 1 0 0 0 0 0 0 0 0 0 0 0 0 0 0 0 0 0\n",
      " 0 0 0 0 0 0 0 0 0 0 0 0 0 0 0 0 0 0 0 0 0 0 0 0 0 0 0 0 0 0 0 0 0 0 0 0 0\n",
      " 0 0 0 0 0 0 0 0 0 0 0 0 0 0 0 0 0 0 0 0 0 0 0 0 0 0 0 0 0 0 0 0 0 0 0 0 0\n",
      " 0 0 0 0 0 0 0 0 0 0 0 0 0 0 0 0 0 0 0 0 0 0 0 0 0 0 0 0 0 0]\n",
      "0.6179775280898876\n",
      "0.7655771195097039\n",
      "0.5142857142857142\n"
     ]
    }
   ],
   "source": [
    "accuracy_score(y_test, y_predicted)\n",
    "print(accuracy_score(y_test, y_predicted))\n",
    "print(precision_score(y_test, y_predicted, average='weighted'))\n",
    "print(recall_score(y_test,y_predicted, average= 'macro'))"
   ],
   "metadata": {
    "collapsed": false,
    "pycharm": {
     "name": "#%%\n"
    }
   }
  },
  {
   "cell_type": "markdown",
   "source": [
    "По итогу для дерева добавление данных с возрастом даже снизило точность\n",
    "думаю это потому что в дереве при делении основании возраста использовалось не среднее значение\n",
    "а значит добавление множества записей одного возраста внесет некий дисбаланс\n",
    "\n",
    "а для KNN существенно влияет scaling и само по себе количество записей, а так как возраст являеется\n",
    "лишь одним из 5 параметров то при подсчете расстояния при scaling по идее влияет слабо, тут важнее\n",
    "именно наличие 200 дополнительных записей, отсюда увеличение точности"
   ],
   "metadata": {
    "collapsed": false,
    "pycharm": {
     "name": "#%% md\n"
    }
   }
  }
 ],
 "metadata": {
  "kernelspec": {
   "display_name": "Python 3",
   "language": "python",
   "name": "python3"
  },
  "language_info": {
   "codemirror_mode": {
    "name": "ipython",
    "version": 2
   },
   "file_extension": ".py",
   "mimetype": "text/x-python",
   "name": "python",
   "nbconvert_exporter": "python",
   "pygments_lexer": "ipython2",
   "version": "2.7.6"
  }
 },
 "nbformat": 4,
 "nbformat_minor": 0
}